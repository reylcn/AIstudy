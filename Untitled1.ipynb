{
  "nbformat": 4,
  "nbformat_minor": 0,
  "metadata": {
    "colab": {
      "name": "Untitled1.ipynb",
      "provenance": [],
      "authorship_tag": "ABX9TyPfLSC2r3ns0hBFO2gVax7M",
      "include_colab_link": true
    },
    "kernelspec": {
      "name": "python3",
      "display_name": "Python 3"
    },
    "language_info": {
      "name": "python"
    }
  },
  "cells": [
    {
      "cell_type": "markdown",
      "metadata": {
        "id": "view-in-github",
        "colab_type": "text"
      },
      "source": [
        "<a href=\"https://colab.research.google.com/github/reylcn/AIstudy/blob/main/Untitled1.ipynb\" target=\"_parent\"><img src=\"https://colab.research.google.com/assets/colab-badge.svg\" alt=\"Open In Colab\"/></a>"
      ]
    },
    {
      "cell_type": "markdown",
      "source": [
        "1 Python基本语法：基本运算，列表生成，函数，模块引入\n",
        "\n",
        "2 Mathlotlib:安装，引入，使用\n",
        "\n",
        "3 Numpy:安装，引入，使用\n",
        "\n",
        "4 Pandas:安装，引入，使用"
      ],
      "metadata": {
        "id": "evxNhJQ70cEP"
      }
    },
    {
      "cell_type": "code",
      "source": [
        "a =1 \n",
        "b =2 \n",
        "print(a,b)"
      ],
      "metadata": {
        "colab": {
          "base_uri": "https://localhost:8080/"
        },
        "id": "I27fwek91eNr",
        "outputId": "00fbdcf2-8b19-463c-c28f-772d91791862"
      },
      "execution_count": null,
      "outputs": [
        {
          "output_type": "stream",
          "name": "stdout",
          "text": [
            "1 2\n"
          ]
        }
      ]
    },
    {
      "cell_type": "code",
      "source": [
        "#模块引入\n",
        "import random\n",
        "m = random.random()\n",
        "print(m)"
      ],
      "metadata": {
        "colab": {
          "base_uri": "https://localhost:8080/"
        },
        "id": "aY17w9Z8NwjD",
        "outputId": "2807d66e-5cf7-4101-ace4-0460d2408b18"
      },
      "execution_count": null,
      "outputs": [
        {
          "output_type": "stream",
          "name": "stdout",
          "text": [
            "0.27541165563948\n"
          ]
        }
      ]
    },
    {
      "cell_type": "code",
      "source": [
        "#循环输出\n",
        "for i in [1,2,3,4,5,6,7,8,9,10]:\n",
        "  m_i = random.random()\n",
        "  print(m_i)"
      ],
      "metadata": {
        "colab": {
          "base_uri": "https://localhost:8080/"
        },
        "id": "8X5Qu7NIOcyb",
        "outputId": "317ed6e9-1801-48ce-935e-432bb6d76707"
      },
      "execution_count": null,
      "outputs": [
        {
          "output_type": "stream",
          "name": "stdout",
          "text": [
            "0.7254332636786519\n",
            "0.7845389550324594\n",
            "0.9114450946614462\n",
            "0.0824478819426343\n",
            "0.14811338187664425\n",
            "0.5279575776970461\n",
            "0.122096777905216\n",
            "0.19384675497739234\n",
            "0.5850372859673221\n",
            "0.8223608633853678\n"
          ]
        }
      ]
    },
    {
      "cell_type": "code",
      "source": [
        "import matplotlib\n",
        "\n",
        "x = [1,2,3,4,5]\n",
        "y = [2,3,4,5,6]\n",
        "print(x,y)"
      ],
      "metadata": {
        "id": "ugxsABZfH_kv"
      },
      "execution_count": null,
      "outputs": []
    },
    {
      "cell_type": "code",
      "source": [
        ""
      ],
      "metadata": {
        "id": "4grES1rkIKfp"
      },
      "execution_count": null,
      "outputs": []
    }
  ]
}